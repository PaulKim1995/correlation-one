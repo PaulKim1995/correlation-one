{
 "cells": [
  {
   "cell_type": "markdown",
   "metadata": {
    "toc": "true"
   },
   "source": [
    "# Table of Contents\n",
    " <p><div class=\"lev1 toc-item\"><a href=\"#Introduction\" data-toc-modified-id=\"Introduction-1\"><span class=\"toc-item-num\">1&nbsp;&nbsp;</span>Introduction</a></div><div class=\"lev1 toc-item\"><a href=\"#Package-loading\" data-toc-modified-id=\"Package-loading-2\"><span class=\"toc-item-num\">2&nbsp;&nbsp;</span>Package loading</a></div><div class=\"lev1 toc-item\"><a href=\"#Data-loading\" data-toc-modified-id=\"Data-loading-3\"><span class=\"toc-item-num\">3&nbsp;&nbsp;</span>Data loading</a></div><div class=\"lev1 toc-item\"><a href=\"#Correlation-study\" data-toc-modified-id=\"Correlation-study-4\"><span class=\"toc-item-num\">4&nbsp;&nbsp;</span>Correlation study</a></div><div class=\"lev2 toc-item\"><a href=\"#metropolitan-breakdown\" data-toc-modified-id=\"metropolitan-breakdown-41\"><span class=\"toc-item-num\">4.1&nbsp;&nbsp;</span><code>metropolitan</code> breakdown</a></div><div class=\"lev2 toc-item\"><a href=\"#room_type-breakdown\" data-toc-modified-id=\"room_type-breakdown-42\"><span class=\"toc-item-num\">4.2&nbsp;&nbsp;</span><code>room_type</code> breakdown</a></div>"
   ]
  },
  {
   "cell_type": "markdown",
   "metadata": {},
   "source": [
    "# Introduction"
   ]
  },
  {
   "cell_type": "markdown",
   "metadata": {},
   "source": [
    "# Package loading"
   ]
  },
  {
   "cell_type": "markdown",
   "metadata": {},
   "source": [
    "# Data loading"
   ]
  },
  {
   "cell_type": "markdown",
   "metadata": {},
   "source": [
    "# Correlation study"
   ]
  },
  {
   "cell_type": "markdown",
   "metadata": {},
   "source": [
    "## `metropolitan` breakdown"
   ]
  },
  {
   "cell_type": "markdown",
   "metadata": {},
   "source": [
    "## `room_type` breakdown"
   ]
  },
  {
   "cell_type": "code",
   "execution_count": null,
   "metadata": {
    "collapsed": true
   },
   "outputs": [],
   "source": []
  }
 ],
 "metadata": {
  "kernelspec": {
   "display_name": "louisvenv",
   "language": "python",
   "name": "louisvenv"
  },
  "language_info": {
   "codemirror_mode": {
    "name": "ipython",
    "version": 3
   },
   "file_extension": ".py",
   "mimetype": "text/x-python",
   "name": "python",
   "nbconvert_exporter": "python",
   "pygments_lexer": "ipython3",
   "version": "3.5.2"
  },
  "toc": {
   "colors": {
    "hover_highlight": "#DAA520",
    "running_highlight": "#FF0000",
    "selected_highlight": "#FFD700"
   },
   "moveMenuLeft": true,
   "nav_menu": {
    "height": "119px",
    "width": "252px"
   },
   "navigate_menu": true,
   "number_sections": true,
   "sideBar": true,
   "threshold": 4,
   "toc_cell": true,
   "toc_section_display": "block",
   "toc_window_display": true
  }
 },
 "nbformat": 4,
 "nbformat_minor": 2
}
